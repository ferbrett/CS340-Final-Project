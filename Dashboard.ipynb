{
 "cells": [
  {
   "cell_type": "code",
   "execution_count": 1,
   "metadata": {},
   "outputs": [
    {
     "data": {
      "text/html": [
       "<div>\n",
       "  <iframe src=\"/app/endpoints/0856225d9eea4f7e8aa98aca77189b79/\" width=800 height=600 frameborder=\"0\"></iframe>\n",
       "  <hr/><a href=\"/app/endpoints/0856225d9eea4f7e8aa98aca77189b79/\" target=\"_new\">Open in new window</a> for /app/endpoints/0856225d9eea4f7e8aa98aca77189b79/\n",
       "</div>"
      ],
      "text/plain": [
       "<jupyter_plotly_dash.dash_wrapper.JupyterDash at 0x7f60d62dc4e0>"
      ]
     },
     "execution_count": 1,
     "metadata": {},
     "output_type": "execute_result"
    }
   ],
   "source": [
    "from jupyter_plotly_dash import JupyterDash\n",
    "import dash_core_components as dcc\n",
    "import dash_html_components as html\n",
    "import dash\n",
    "from dash.dependencies import Input, Output\n",
    "from pymongo import MongoClient\n",
    "import urllib.parse\n",
    "from bson.json_util import dumps\n",
    "from animal_shelter import AnimalShelter\n",
    "\n",
    "# this is a juypter dash application\n",
    "app = JupyterDash('ModuleFive')\n",
    "\n",
    "# the application interfaces are declared here\n",
    "# this application has two input boxes, a submit button, a horizontal line and div for output\n",
    "app.layout = html.Div(\n",
    "    [\n",
    "        dcc.Input(\n",
    "            id=\"input_user\".format(\"text\"),\n",
    "            type=\"text\",\n",
    "            placeholder=\"input type {}\".format(\"text\")),\n",
    "        dcc.Input(\n",
    "            id=\"input_passwd\".format(\"password\"),\n",
    "            type=\"password\",\n",
    "            placeholder=\"input type {}\".format(\"password\")),\n",
    "        html.Button('Execute', id='submit-val', n_clicks=0),\n",
    "        \n",
    "    html.Hr(),\n",
    "    html.Div(id=\"query-out\"),\n",
    "    html.H4(\"Brett Ferguson\")\n",
    "] )\n",
    "\n",
    "# this is area to define application responses or callback routines\n",
    "# this one callback will take the entered text and if the submit button is clicked then call the \n",
    "#  mongo database with the find_one query and return the result to the output div\n",
    "@app.callback(\n",
    "    Output(\"query-out\", \"children\"),\n",
    "    [Input(\"input_user\".format(\"text\"), \"value\"), \n",
    "     Input(\"input_passwd\".format(\"password\"),\"value\"),\n",
    "     Input('submit-val', 'n_clicks')],\n",
    "    [dash.dependencies.State('input_passwd', 'value')]\n",
    ")\n",
    "def cb_render(userValue,passValue, n_clicks,buttonValue):\n",
    "    if n_clicks > 0:\n",
    "        ###########################\n",
    "        # Data Manipulation / Model\n",
    "        # use CRUD module to access MongoDB\n",
    "        ##########################\n",
    "        username = urllib.parse.quote_plus(userValue)\n",
    "        password = urllib.parse.quote_plus(passValue)\n",
    "        \n",
    "        shelter = AnimalShelter(username, password)\n",
    "        \n",
    "        # Return example query result and convert python dict data type into JSON format\n",
    "        doc = shelter.read({\"animal_type\" : \"Dog\", \"name\" : \"Lucy\"})\n",
    "        return dumps(doc)\n",
    "    \n",
    "    \n",
    "app"
   ]
  },
  {
   "cell_type": "code",
   "execution_count": null,
   "metadata": {},
   "outputs": [],
   "source": []
  },
  {
   "cell_type": "code",
   "execution_count": null,
   "metadata": {},
   "outputs": [],
   "source": []
  }
 ],
 "metadata": {
  "kernelspec": {
   "display_name": "Python 3",
   "language": "python",
   "name": "python3"
  },
  "language_info": {
   "codemirror_mode": {
    "name": "ipython",
    "version": 3
   },
   "file_extension": ".py",
   "mimetype": "text/x-python",
   "name": "python",
   "nbconvert_exporter": "python",
   "pygments_lexer": "ipython3",
   "version": "3.6.9"
  }
 },
 "nbformat": 4,
 "nbformat_minor": 4
}
